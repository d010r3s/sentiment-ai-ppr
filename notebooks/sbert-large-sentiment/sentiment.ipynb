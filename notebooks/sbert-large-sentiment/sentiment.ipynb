{
 "cells": [
  {
   "cell_type": "code",
   "execution_count": null,
   "id": "f0a9bec6",
   "metadata": {},
   "outputs": [],
   "source": [
    "!pip install -q torch transformers pandas sentencepiece --quiet"
   ]
  },
  {
   "cell_type": "code",
   "execution_count": null,
   "id": "bf93e044",
   "metadata": {},
   "outputs": [],
   "source": [
    "from pathlib import Path\n",
    "import pandas as pd, torch, time\n",
    "from tqdm.auto import tqdm\n",
    "from transformers import AutoTokenizer, AutoModelForSequenceClassification\n",
    "\n",
    "CSV_PATH = Path(r\"C:...\")\n",
    "# TOKENIZER_ID = Path(r\"D:...\")\n",
    "MODEL_DIR = Path(r\"D:...\")\n",
    "BATCH_SIZE   = 64\n",
    "\n",
    "tok   = AutoTokenizer.from_pretrained(\"ai-forever/sbert_large_nlu_ru\")\n",
    "model = AutoModelForSequenceClassification.from_pretrained(\n",
    "            MODEL_DIR, local_files_only=True, device_map=\"auto\").eval()\n",
    "device = model.device\n",
    "\n",
    "df = pd.read_csv(CSV_PATH)\n",
    "print(f\"sum: {len(df):,}\")\n",
    "\n",
    "def predict(texts, batch=BATCH_SIZE):\n",
    "    preds = []\n",
    "    for i in tqdm(range(0, len(texts), batch), desc=\"bar \", unit=\"batch\"):\n",
    "        bt = tok(texts[i:i+batch], padding=True, truncation=True,\n",
    "                 max_length=128, return_tensors=\"pt\").to(device)\n",
    "        with torch.no_grad():\n",
    "            preds.extend(model.config.id2label[p] for p in model(**bt).logits.argmax(-1).tolist())\n",
    "    return preds\n",
    "\n",
    "t0 = time.time()\n",
    "df[\"sentiment\"] = predict(df[\"text\"].astype(str).tolist())\n",
    "print(f\"done in {time.time()-t0:.1f} с\")\n",
    "\n",
    "OUT = r\"C:...\"\n",
    "df.to_csv(OUT, index=False, encoding=\"utf-8-sig\")\n",
    "print(\"done :\", OUT)\n"
   ]
  }
 ],
 "metadata": {
  "kernelspec": {
   "display_name": "Python 3 (ipykernel)",
   "language": "python",
   "name": "python3"
  },
  "language_info": {
   "codemirror_mode": {
    "name": "ipython",
    "version": 3
   },
   "file_extension": ".py",
   "mimetype": "text/x-python",
   "name": "python",
   "nbconvert_exporter": "python",
   "pygments_lexer": "ipython3",
   "version": "3.11.1"
  }
 },
 "nbformat": 4,
 "nbformat_minor": 5
}
